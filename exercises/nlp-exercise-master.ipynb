{
 "cells": [
  {
   "cell_type": "code",
   "execution_count": 4,
   "metadata": {},
   "outputs": [
    {
     "name": "stdout",
     "output_type": "stream",
     "text": [
      "The prog_edu_assistant_tools.magics extension is already loaded. To reload it, use:\n",
      "  %reload_ext prog_edu_assistant_tools.magics\n"
     ]
    }
   ],
   "source": [
    "# MASTER ONLY\n",
    "# imports %%solution, %%submission, %%template\n",
    "%load_ext prog_edu_assistant_tools.magics\n",
    "from prog_edu_assistant_tools.magics import report, autotest"
   ]
  },
  {
   "cell_type": "markdown",
   "metadata": {},
   "source": [
    "# Introduction to NLP (Natural Language Processing)\n",
    "\n",
    "```\n",
    "# ASSIGNMENT METADATA\n",
    "assignment_id: \"IntroToNLP\"\n",
    "```"
   ]
  },
  {
   "cell_type": "code",
   "execution_count": 42,
   "metadata": {},
   "outputs": [],
   "source": [
    "# This is some dummy context\n",
    "pass"
   ]
  },
  {
   "cell_type": "markdown",
   "metadata": {},
   "source": [
    "TODO(jnavarroh): Add explanations"
   ]
  },
  {
   "cell_type": "markdown",
   "metadata": {},
   "source": [
    "## Exercise: Count bigram frequency\n",
    "\n",
    "```\n",
    "# EXERCISE METADATA\n",
    "exercise_id: \"BigramFrequency\"\n",
    "```\n",
    "\n",
    "Using the text database that you have downloaded above, compute the bigram frequencies, and define a function that returns the top k bigrams as a map of bigram (two unigrams joined by a single space) to its occurrence count."
   ]
  },
  {
   "cell_type": "code",
   "execution_count": 45,
   "metadata": {},
   "outputs": [],
   "source": [
    "%%solution\n",
    "def TopBigramFrequency(k):\n",
    "    \"\"\" # BEGIN PROMPT\n",
    "    # ... put your program here\n",
    "    \"\"\" # END PROMPT\n",
    "    # BEGIN SOLUTION\n",
    "    return {'in the': 100, 'something else': 1}\n",
    "    # END SOLUTION"
   ]
  },
  {
   "cell_type": "code",
   "execution_count": 46,
   "metadata": {},
   "outputs": [],
   "source": [
    "%%studenttest StudentTest\n",
    "assert TopBigramFrequency(2)['in the'] == 100"
   ]
  },
  {
   "cell_type": "code",
   "execution_count": 47,
   "metadata": {},
   "outputs": [],
   "source": [
    "%%inlinetest AutograderTest\n",
    "assert 'TopBigramFrequency' in globals(), \"Did you define a function named 'TopBigramFrequency' in the solution cell?\"\n",
    "assert str(TopBigramFrequency.__class__) == \"<class 'function'>\", \"Did you define a function named 'TopBigramFrequency'? There was a %s instead\" % TopBigramFrequency.__class__\n",
    "ans = TopBigramFrequency(2)\n",
    "assert 'in the' in ans, \"Your computed answer does not have bigram 'in the', but it should be there\"\n",
    "assert ans['in the'] == 100, \"Frequency of 'in the' expected to be 100, but got %d\" % (ans['in the'])"
   ]
  },
  {
   "cell_type": "code",
   "execution_count": 48,
   "metadata": {},
   "outputs": [
    {
     "data": {
      "text/html": [
       "\n",
       "<h4 style='color: #387;'>Results</h4>\n",
       "\n",
       "Looks OK.\n"
      ],
      "text/plain": [
       "<IPython.core.display.HTML object>"
      ]
     },
     "execution_count": 48,
     "metadata": {},
     "output_type": "execute_result"
    }
   ],
   "source": [
    "result, log = %autotest AutograderTest\n",
    "report(AutograderTest, results=result.results)"
   ]
  },
  {
   "cell_type": "code",
   "execution_count": 49,
   "metadata": {},
   "outputs": [],
   "source": [
    "%%submission\n",
    "TopBigramFrequency = 1"
   ]
  },
  {
   "cell_type": "code",
   "execution_count": 50,
   "metadata": {},
   "outputs": [
    {
     "data": {
      "text/html": [
       "\n",
       "<h4 style='color: #387;'>Results</h4>\n",
       "\n",
       "Did you define a function named &#39;TopBigramFrequency&#39;? There was a &lt;class &#39;int&#39;&gt; instead\n"
      ],
      "text/plain": [
       "<IPython.core.display.HTML object>"
      ]
     },
     "execution_count": 50,
     "metadata": {},
     "output_type": "execute_result"
    }
   ],
   "source": [
    "result, log = %autotest AutograderTest\n",
    "report(AutograderTest, results=result.results)"
   ]
  },
  {
   "cell_type": "code",
   "execution_count": null,
   "metadata": {},
   "outputs": [],
   "source": []
  }
 ],
 "metadata": {
  "kernelspec": {
   "display_name": "Python 3",
   "language": "python",
   "name": "python3"
  },
  "language_info": {
   "codemirror_mode": {
    "name": "ipython",
    "version": 3
   },
   "file_extension": ".py",
   "mimetype": "text/x-python",
   "name": "python",
   "nbconvert_exporter": "python",
   "pygments_lexer": "ipython3",
   "version": "3.7.3"
  }
 },
 "nbformat": 4,
 "nbformat_minor": 2
}
